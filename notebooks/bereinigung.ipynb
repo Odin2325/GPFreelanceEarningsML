{
 "cells": [
  {
   "cell_type": "markdown",
   "metadata": {},
   "source": [
    "Bereinigung der Datensätze"
   ]
  },
  {
   "cell_type": "code",
   "execution_count": 11,
   "metadata": {},
   "outputs": [],
   "source": [
    "import pandas as pd\n",
    "import numpy as np\n",
    "\n",
    "from pathlib import Path\n",
    "datei = \"freelancer_earnings_bd.csv\""
   ]
  },
  {
   "cell_type": "code",
   "execution_count": 14,
   "metadata": {},
   "outputs": [
    {
     "data": {
      "application/vnd.microsoft.datawrangler.viewer.v0+json": {
       "columns": [
        {
         "name": "index",
         "rawType": "int64",
         "type": "integer"
        },
        {
         "name": "Freelancer_ID",
         "rawType": "int64",
         "type": "integer"
        },
        {
         "name": "Job_Category",
         "rawType": "object",
         "type": "string"
        },
        {
         "name": "Platform",
         "rawType": "object",
         "type": "string"
        },
        {
         "name": "Experience_Level",
         "rawType": "object",
         "type": "string"
        },
        {
         "name": "Client_Region",
         "rawType": "object",
         "type": "string"
        },
        {
         "name": "Payment_Method",
         "rawType": "object",
         "type": "string"
        },
        {
         "name": "Job_Completed",
         "rawType": "int64",
         "type": "integer"
        },
        {
         "name": "Earnings_USD",
         "rawType": "int64",
         "type": "integer"
        },
        {
         "name": "Hourly_Rate",
         "rawType": "float64",
         "type": "float"
        },
        {
         "name": "Job_Success_Rate",
         "rawType": "float64",
         "type": "float"
        },
        {
         "name": "Client_Rating",
         "rawType": "float64",
         "type": "float"
        },
        {
         "name": "Job_Duration_Days",
         "rawType": "int64",
         "type": "integer"
        },
        {
         "name": "Project_Type",
         "rawType": "object",
         "type": "string"
        },
        {
         "name": "Rehire_Rate",
         "rawType": "float64",
         "type": "float"
        },
        {
         "name": "Marketing_Spend",
         "rawType": "int64",
         "type": "integer"
        }
       ],
       "conversionMethod": "pd.DataFrame",
       "ref": "1329c4a0-1cd5-480b-957d-76d7f95109b9",
       "rows": [
        [
         "0",
         "1",
         "Web Development",
         "Fiverr",
         "Beginner",
         "Asia",
         "Mobile Banking",
         "180",
         "1620",
         "95.79",
         "68.73",
         "3.18",
         "1",
         "Fixed",
         "40.19",
         "53"
        ],
        [
         "1",
         "2",
         "App Development",
         "Fiverr",
         "Beginner",
         "Australia",
         "Mobile Banking",
         "218",
         "9078",
         "86.38",
         "97.54",
         "3.44",
         "54",
         "Fixed",
         "36.53",
         "486"
        ],
        [
         "2",
         "3",
         "Web Development",
         "Fiverr",
         "Beginner",
         "UK",
         "Crypto",
         "27",
         "3455",
         "85.17",
         "86.6",
         "4.2",
         "46",
         "Hourly",
         "74.05",
         "489"
        ],
        [
         "3",
         "4",
         "Data Entry",
         "PeoplePerHour",
         "Intermediate",
         "Asia",
         "Bank Transfer",
         "17",
         "5577",
         "14.37",
         "79.93",
         "4.47",
         "41",
         "Hourly",
         "27.58",
         "67"
        ],
        [
         "4",
         "5",
         "Digital Marketing",
         "Upwork",
         "Expert",
         "Asia",
         "Crypto",
         "245",
         "5898",
         "99.37",
         "57.8",
         "5.0",
         "41",
         "Hourly",
         "69.09",
         "489"
        ]
       ],
       "shape": {
        "columns": 15,
        "rows": 5
       }
      },
      "text/html": [
       "<div>\n",
       "<style scoped>\n",
       "    .dataframe tbody tr th:only-of-type {\n",
       "        vertical-align: middle;\n",
       "    }\n",
       "\n",
       "    .dataframe tbody tr th {\n",
       "        vertical-align: top;\n",
       "    }\n",
       "\n",
       "    .dataframe thead th {\n",
       "        text-align: right;\n",
       "    }\n",
       "</style>\n",
       "<table border=\"1\" class=\"dataframe\">\n",
       "  <thead>\n",
       "    <tr style=\"text-align: right;\">\n",
       "      <th></th>\n",
       "      <th>Freelancer_ID</th>\n",
       "      <th>Job_Category</th>\n",
       "      <th>Platform</th>\n",
       "      <th>Experience_Level</th>\n",
       "      <th>Client_Region</th>\n",
       "      <th>Payment_Method</th>\n",
       "      <th>Job_Completed</th>\n",
       "      <th>Earnings_USD</th>\n",
       "      <th>Hourly_Rate</th>\n",
       "      <th>Job_Success_Rate</th>\n",
       "      <th>Client_Rating</th>\n",
       "      <th>Job_Duration_Days</th>\n",
       "      <th>Project_Type</th>\n",
       "      <th>Rehire_Rate</th>\n",
       "      <th>Marketing_Spend</th>\n",
       "    </tr>\n",
       "  </thead>\n",
       "  <tbody>\n",
       "    <tr>\n",
       "      <th>0</th>\n",
       "      <td>1</td>\n",
       "      <td>Web Development</td>\n",
       "      <td>Fiverr</td>\n",
       "      <td>Beginner</td>\n",
       "      <td>Asia</td>\n",
       "      <td>Mobile Banking</td>\n",
       "      <td>180</td>\n",
       "      <td>1620</td>\n",
       "      <td>95.79</td>\n",
       "      <td>68.73</td>\n",
       "      <td>3.18</td>\n",
       "      <td>1</td>\n",
       "      <td>Fixed</td>\n",
       "      <td>40.19</td>\n",
       "      <td>53</td>\n",
       "    </tr>\n",
       "    <tr>\n",
       "      <th>1</th>\n",
       "      <td>2</td>\n",
       "      <td>App Development</td>\n",
       "      <td>Fiverr</td>\n",
       "      <td>Beginner</td>\n",
       "      <td>Australia</td>\n",
       "      <td>Mobile Banking</td>\n",
       "      <td>218</td>\n",
       "      <td>9078</td>\n",
       "      <td>86.38</td>\n",
       "      <td>97.54</td>\n",
       "      <td>3.44</td>\n",
       "      <td>54</td>\n",
       "      <td>Fixed</td>\n",
       "      <td>36.53</td>\n",
       "      <td>486</td>\n",
       "    </tr>\n",
       "    <tr>\n",
       "      <th>2</th>\n",
       "      <td>3</td>\n",
       "      <td>Web Development</td>\n",
       "      <td>Fiverr</td>\n",
       "      <td>Beginner</td>\n",
       "      <td>UK</td>\n",
       "      <td>Crypto</td>\n",
       "      <td>27</td>\n",
       "      <td>3455</td>\n",
       "      <td>85.17</td>\n",
       "      <td>86.60</td>\n",
       "      <td>4.20</td>\n",
       "      <td>46</td>\n",
       "      <td>Hourly</td>\n",
       "      <td>74.05</td>\n",
       "      <td>489</td>\n",
       "    </tr>\n",
       "    <tr>\n",
       "      <th>3</th>\n",
       "      <td>4</td>\n",
       "      <td>Data Entry</td>\n",
       "      <td>PeoplePerHour</td>\n",
       "      <td>Intermediate</td>\n",
       "      <td>Asia</td>\n",
       "      <td>Bank Transfer</td>\n",
       "      <td>17</td>\n",
       "      <td>5577</td>\n",
       "      <td>14.37</td>\n",
       "      <td>79.93</td>\n",
       "      <td>4.47</td>\n",
       "      <td>41</td>\n",
       "      <td>Hourly</td>\n",
       "      <td>27.58</td>\n",
       "      <td>67</td>\n",
       "    </tr>\n",
       "    <tr>\n",
       "      <th>4</th>\n",
       "      <td>5</td>\n",
       "      <td>Digital Marketing</td>\n",
       "      <td>Upwork</td>\n",
       "      <td>Expert</td>\n",
       "      <td>Asia</td>\n",
       "      <td>Crypto</td>\n",
       "      <td>245</td>\n",
       "      <td>5898</td>\n",
       "      <td>99.37</td>\n",
       "      <td>57.80</td>\n",
       "      <td>5.00</td>\n",
       "      <td>41</td>\n",
       "      <td>Hourly</td>\n",
       "      <td>69.09</td>\n",
       "      <td>489</td>\n",
       "    </tr>\n",
       "  </tbody>\n",
       "</table>\n",
       "</div>"
      ],
      "text/plain": [
       "   Freelancer_ID       Job_Category       Platform Experience_Level  \\\n",
       "0              1    Web Development         Fiverr         Beginner   \n",
       "1              2    App Development         Fiverr         Beginner   \n",
       "2              3    Web Development         Fiverr         Beginner   \n",
       "3              4         Data Entry  PeoplePerHour     Intermediate   \n",
       "4              5  Digital Marketing         Upwork           Expert   \n",
       "\n",
       "  Client_Region  Payment_Method  Job_Completed  Earnings_USD  Hourly_Rate  \\\n",
       "0          Asia  Mobile Banking            180          1620        95.79   \n",
       "1     Australia  Mobile Banking            218          9078        86.38   \n",
       "2            UK          Crypto             27          3455        85.17   \n",
       "3          Asia   Bank Transfer             17          5577        14.37   \n",
       "4          Asia          Crypto            245          5898        99.37   \n",
       "\n",
       "   Job_Success_Rate  Client_Rating  Job_Duration_Days Project_Type  \\\n",
       "0             68.73           3.18                  1        Fixed   \n",
       "1             97.54           3.44                 54        Fixed   \n",
       "2             86.60           4.20                 46       Hourly   \n",
       "3             79.93           4.47                 41       Hourly   \n",
       "4             57.80           5.00                 41       Hourly   \n",
       "\n",
       "   Rehire_Rate  Marketing_Spend  \n",
       "0        40.19               53  \n",
       "1        36.53              486  \n",
       "2        74.05              489  \n",
       "3        27.58               67  \n",
       "4        69.09              489  "
      ]
     },
     "execution_count": 14,
     "metadata": {},
     "output_type": "execute_result"
    }
   ],
   "source": [
    "df = pd.read_csv(datei)\n",
    "df.head()"
   ]
  },
  {
   "cell_type": "code",
   "execution_count": 40,
   "metadata": {},
   "outputs": [
    {
     "name": "stdout",
     "output_type": "stream",
     "text": [
      "<class 'pandas.core.frame.DataFrame'>\n",
      "RangeIndex: 1950 entries, 0 to 1949\n",
      "Data columns (total 15 columns):\n",
      " #   Column             Non-Null Count  Dtype  \n",
      "---  ------             --------------  -----  \n",
      " 0   Freelancer_ID      1950 non-null   int64  \n",
      " 1   Job_Category       1950 non-null   object \n",
      " 2   Platform           1950 non-null   object \n",
      " 3   Experience_Level   1950 non-null   object \n",
      " 4   Client_Region      1950 non-null   object \n",
      " 5   Payment_Method     1950 non-null   object \n",
      " 6   Job_Completed      1950 non-null   int64  \n",
      " 7   Earnings_USD       1950 non-null   int64  \n",
      " 8   Hourly_Rate        1950 non-null   float64\n",
      " 9   Job_Success_Rate   1950 non-null   float64\n",
      " 10  Client_Rating      1950 non-null   float64\n",
      " 11  Job_Duration_Days  1950 non-null   int64  \n",
      " 12  Project_Type       1950 non-null   object \n",
      " 13  Rehire_Rate        1950 non-null   float64\n",
      " 14  Marketing_Spend    1950 non-null   int64  \n",
      "dtypes: float64(4), int64(5), object(6)\n",
      "memory usage: 228.6+ KB\n"
     ]
    },
    {
     "data": {
      "text/plain": [
       "Freelancer_ID        0\n",
       "Job_Category         0\n",
       "Platform             0\n",
       "Experience_Level     0\n",
       "Client_Region        0\n",
       "Payment_Method       0\n",
       "Job_Completed        0\n",
       "Earnings_USD         0\n",
       "Hourly_Rate          0\n",
       "Job_Success_Rate     0\n",
       "Client_Rating        0\n",
       "Job_Duration_Days    0\n",
       "Project_Type         0\n",
       "Rehire_Rate          0\n",
       "Marketing_Spend      0\n",
       "dtype: int64"
      ]
     },
     "execution_count": 40,
     "metadata": {},
     "output_type": "execute_result"
    }
   ],
   "source": [
    "df.info()\n",
    "df.isnull().sum()"
   ]
  }
 ],
 "metadata": {
  "kernelspec": {
   "display_name": "Python 3",
   "language": "python",
   "name": "python3"
  },
  "language_info": {
   "codemirror_mode": {
    "name": "ipython",
    "version": 3
   },
   "file_extension": ".py",
   "mimetype": "text/x-python",
   "name": "python",
   "nbconvert_exporter": "python",
   "pygments_lexer": "ipython3",
   "version": "3.13.2"
  }
 },
 "nbformat": 4,
 "nbformat_minor": 2
}
